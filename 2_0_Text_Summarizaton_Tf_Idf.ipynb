{
  "nbformat": 4,
  "nbformat_minor": 0,
  "metadata": {
    "colab": {
      "name": "2_0_Text Summarizaton_Tf-Idf.ipynb",
      "provenance": [],
      "authorship_tag": "ABX9TyNZnT/37S+dpVR91kZ49tHt",
      "include_colab_link": true
    },
    "kernelspec": {
      "name": "python3",
      "display_name": "Python 3"
    },
    "language_info": {
      "name": "python"
    }
  },
  "cells": [
    {
      "cell_type": "markdown",
      "metadata": {
        "id": "view-in-github",
        "colab_type": "text"
      },
      "source": [
        "<a href=\"https://colab.research.google.com/github/ciepielajan/NLP_Text-Summarization/blob/main/2_0_Text_Summarizaton_Tf_Idf.ipynb\" target=\"_parent\"><img src=\"https://colab.research.google.com/assets/colab-badge.svg\" alt=\"Open In Colab\"/></a>"
      ]
    },
    {
      "cell_type": "markdown",
      "metadata": {
        "id": "yNoHaK7TcLqJ"
      },
      "source": [
        "2_0_Text Summarizaton_Tf-Idf.ipynb"
      ]
    },
    {
      "cell_type": "code",
      "metadata": {
        "id": "GHsZBk-PcITs"
      },
      "source": [
        ""
      ],
      "execution_count": null,
      "outputs": []
    }
  ]
}