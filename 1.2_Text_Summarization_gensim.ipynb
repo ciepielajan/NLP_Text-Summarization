{
  "nbformat": 4,
  "nbformat_minor": 0,
  "metadata": {
    "kernelspec": {
      "display_name": "Python 3",
      "language": "python",
      "name": "python3"
    },
    "language_info": {
      "codemirror_mode": {
        "name": "ipython",
        "version": 3
      },
      "file_extension": ".py",
      "mimetype": "text/x-python",
      "name": "python",
      "nbconvert_exporter": "python",
      "pygments_lexer": "ipython3",
      "version": "3.6.10"
    },
    "colab": {
      "name": "#2_Text_Summarization_gensim.ipynb",
      "provenance": [],
      "include_colab_link": true
    }
  },
  "cells": [
    {
      "cell_type": "markdown",
      "metadata": {
        "id": "view-in-github",
        "colab_type": "text"
      },
      "source": [
        "<a href=\"https://colab.research.google.com/github/ciepielajan/NLP_Text-Summarization/blob/main/1.2_Text_Summarization_gensim.ipynb\" target=\"_parent\"><img src=\"https://colab.research.google.com/assets/colab-badge.svg\" alt=\"Open In Colab\"/></a>"
      ]
    },
    {
      "cell_type": "markdown",
      "metadata": {
        "id": "6Q6NwZq_VE1b"
      },
      "source": [
        "1.2_Text_Summarization_gensim.ipynb"
      ]
    },
    {
      "cell_type": "code",
      "metadata": {
        "id": "9wichCYkXSLB"
      },
      "source": [
        "text = \"Ferrari (/fəˈrɑːri/; Italian: [ferˈraːri]) is an Italian luxury sports car manufacturer based in Maranello, Italy.\\\n",
        "Founded by Enzo Ferrari in 1939 out of the Alfa Romeo race division as Auto Avio Costruzioni, the company built its first car in 1940. However, the company's inception as an auto manufacturer is usually recognized as 1947, when the first Ferrari-badged car was completed\\\n",
        "Enzo Ferrari was not initially interested in the idea of producing road cars when he formed \\\n",
        "Scuderia Ferrari in 1929, with headquarters in Modena. Scuderia Ferrari (pronounced [skudeˈriːa]) literally means\\\n",
        "\\\"Ferrari Stable\\\" and is usually used to mean \\\"Team Ferrari.\\\" Ferrari bought,[citation needed] prepared, and \\\n",
        "fielded Alfa Romeo racing cars for gentleman drivers,functioning as the racing division of Alfa Romeo. \\\n",
        "In 1933, Alfa Romeo withdrew its in-house racing team and Scuderia Ferrari took over as its works team:[1]\\\n",
        "the Scuderia received Alfa's Grand Prix cars of the latest specifications and fielded many famous drivers such as Tazio Nuvolari and Achille Varzi.\\\n",
        "In 1938, Alfa Romeo brought its racing operation again in-house, forming Alfa Corse in Milan and hired Enzo Ferrari as manager of the new racing department; therefore the Scuderia Ferrari was disbanded.\\\n",
        "[1]In September 1939, Ferrari left Alfa Romeo under the provision he would not use the Ferrari name in association with races or racing cars for at least four years.[1] \\\n",
        "A few days later he founded Auto Avio Costruzioni, headquartered in the facilities of the old Scuderia Ferrari.[1]\\\n",
        "The new company ostensibly produced machine tools and aircraft accessories. \\\n",
        "In 1940, Ferrari produced a race car – the Tipo 815, based on a Fiat platform. \\\n",
        "It was the first Ferrari car and debuted at the 1940 Mille Miglia, but due to World War II it saw little competition. \\\n",
        "In 1943, the Ferrari factory moved to Maranello, where it has remained ever since. \\\n",
        "The factory was bombed by the Allies and subsequently rebuilt including works for road car production.\\\n",
        "The first Ferrari-badged car was the 1947 125 S, powered by a 1.5 L V12 engine;[1] \\\n",
        "Enzo Ferrari reluctantly built and sold his automobiles to fund Scuderia Ferrari.[15]\\\n",
        "The Scuderia Ferrari name was resurrected to denote the factory racing cars and distinguish them from those fielded by customer teams.\\\n",
        "In 1960 the company was restructured as a public corporation under the name SEFAC S.p.A. (Società Esercizio Fabbriche Automobili e Corse).[16]\\\n",
        "Early in 1969, Fiat took a 50% stake in Ferrari. \\\n",
        "An immediate result was an increase in available investment funds, and work started at once on a factory extension intended to transfer production from Fiat's Turin plant of the Ferrari engined Fiat Dino.\\\n",
        "New model investment further up in the Ferrari range also received a boost.\\\n",
        "In 1988, Enzo Ferrari oversaw the launch of the Ferrari F40, the last new Ferrari launched before his death later that year.\\\n",
        "In 1989, the company was renamed Ferrari S.p.A.[16] \\\n",
        "From 2002 to 2004, Ferrari produced the Enzo, their fastest model at the time, which was introduced and named in honor of the company's founder, Enzo Ferrari. \\\n",
        "It was to be called the F60, continuing on from the F40 and F50, but Ferrari was so pleased with it, they called it the Enzo instead.\\\n",
        "It was initially offered to loyal and recurring customers, each of the 399 made (minus the 400th which was donated to the Vatican for charity) had a price tag of $650,000 apiece (equivalent to £400,900).\\\n",
        "On 15 September 2012, 964 Ferrari cars worth over $162 million (£99.95 million) attended the Ferrari Driving Days event at Silverstone Circuit and paraded round the Silverstone Circuit setting a world record.[17]\\\n",
        "Ferrari's former CEO and Chairman, Luca di Montezemolo, resigned from the company after 23 years, who was succeeded by Amedeo Felisa and finally on 3 May 2016 Amedeo resigned and was succeeded by Sergio Marchionne, CEO and Chairman of Fiat Chrysler Automobiles, Ferrari's parent company.[18]\\\n",
        "In July 2018, Marchionne was replaced by board member Louis Camilleri as CEO and by John Elkann as chairman.[19]\\\n",
        "On 29 October 2014, the FCA group, resulting from the merger between manufacturers Fiat and Chrysler, announced the split of its luxury brand, Ferrari. \\\n",
        "The aim was to turn Ferrari into an independent brand, 10% of whose stake would be sold in an IPO in 2015.[20]\\\n",
        "Ferrari officially priced its initial public offering at $52 a share after the market close on 20 October 2015.[21]\"\n"
      ],
      "execution_count": 2,
      "outputs": []
    },
    {
      "cell_type": "code",
      "metadata": {
        "id": "c8hQDmWVVE1c"
      },
      "source": [
        "from gensim.summarization import summarize"
      ],
      "execution_count": 3,
      "outputs": []
    },
    {
      "cell_type": "code",
      "metadata": {
        "id": "NkIIu6DtVE1d",
        "outputId": "369095dd-ced6-4c04-a2d5-c0863247e765",
        "colab": {
          "base_uri": "https://localhost:8080/"
        }
      },
      "source": [
        "print(summarize(text))"
      ],
      "execution_count": 4,
      "outputs": [
        {
          "output_type": "stream",
          "text": [
            "Ferrari (/fəˈrɑːri/; Italian: [ferˈraːri]) is an Italian luxury sports car manufacturer based in Maranello, Italy.Founded by Enzo Ferrari in 1939 out of the Alfa Romeo race division as Auto Avio Costruzioni, the company built its first car in 1940.\n",
            "In 1933, Alfa Romeo withdrew its in-house racing team and Scuderia Ferrari took over as its works team:[1]the Scuderia received Alfa's Grand Prix cars of the latest specifications and fielded many famous drivers such as Tazio Nuvolari and Achille Varzi.In 1938, Alfa Romeo brought its racing operation again in-house, forming Alfa Corse in Milan and hired Enzo Ferrari as manager of the new racing department; therefore the Scuderia Ferrari was disbanded.[1]In September 1939, Ferrari left Alfa Romeo under the provision he would not use the Ferrari name in association with races or racing cars for at least four years.[1] A few days later he founded Auto Avio Costruzioni, headquartered in the facilities of the old Scuderia Ferrari.[1]The new company ostensibly produced machine tools and aircraft accessories.\n"
          ],
          "name": "stdout"
        }
      ]
    },
    {
      "cell_type": "code",
      "metadata": {
        "id": "lO8Zgm6gVE1f",
        "outputId": "5ee3d5c1-5d4e-4349-9f5d-c40623c17cb5",
        "colab": {
          "base_uri": "https://localhost:8080/"
        }
      },
      "source": [
        "print(summarize(text, split=True))"
      ],
      "execution_count": 5,
      "outputs": [
        {
          "output_type": "stream",
          "text": [
            "['Ferrari (/fəˈrɑːri/; Italian: [ferˈraːri]) is an Italian luxury sports car manufacturer based in Maranello, Italy.Founded by Enzo Ferrari in 1939 out of the Alfa Romeo race division as Auto Avio Costruzioni, the company built its first car in 1940.', \"In 1933, Alfa Romeo withdrew its in-house racing team and Scuderia Ferrari took over as its works team:[1]the Scuderia received Alfa's Grand Prix cars of the latest specifications and fielded many famous drivers such as Tazio Nuvolari and Achille Varzi.In 1938, Alfa Romeo brought its racing operation again in-house, forming Alfa Corse in Milan and hired Enzo Ferrari as manager of the new racing department; therefore the Scuderia Ferrari was disbanded.[1]In September 1939, Ferrari left Alfa Romeo under the provision he would not use the Ferrari name in association with races or racing cars for at least four years.[1] A few days later he founded Auto Avio Costruzioni, headquartered in the facilities of the old Scuderia Ferrari.[1]The new company ostensibly produced machine tools and aircraft accessories.\"]\n"
          ],
          "name": "stdout"
        }
      ]
    },
    {
      "cell_type": "code",
      "metadata": {
        "id": "oKVqeKAWVE1g",
        "outputId": "78d9a763-ee33-4526-9aeb-00d93dffea06",
        "colab": {
          "base_uri": "https://localhost:8080/"
        }
      },
      "source": [
        "print(summarize(text, ratio=0.5))"
      ],
      "execution_count": 6,
      "outputs": [
        {
          "output_type": "stream",
          "text": [
            "Ferrari (/fəˈrɑːri/; Italian: [ferˈraːri]) is an Italian luxury sports car manufacturer based in Maranello, Italy.Founded by Enzo Ferrari in 1939 out of the Alfa Romeo race division as Auto Avio Costruzioni, the company built its first car in 1940.\n",
            "However, the company's inception as an auto manufacturer is usually recognized as 1947, when the first Ferrari-badged car was completedEnzo Ferrari was not initially interested in the idea of producing road cars when he formed Scuderia Ferrari in 1929, with headquarters in Modena.\n",
            "In 1933, Alfa Romeo withdrew its in-house racing team and Scuderia Ferrari took over as its works team:[1]the Scuderia received Alfa's Grand Prix cars of the latest specifications and fielded many famous drivers such as Tazio Nuvolari and Achille Varzi.In 1938, Alfa Romeo brought its racing operation again in-house, forming Alfa Corse in Milan and hired Enzo Ferrari as manager of the new racing department; therefore the Scuderia Ferrari was disbanded.[1]In September 1939, Ferrari left Alfa Romeo under the provision he would not use the Ferrari name in association with races or racing cars for at least four years.[1] A few days later he founded Auto Avio Costruzioni, headquartered in the facilities of the old Scuderia Ferrari.[1]The new company ostensibly produced machine tools and aircraft accessories.\n",
            "The factory was bombed by the Allies and subsequently rebuilt including works for road car production.The first Ferrari-badged car was the 1947 125 S, powered by a 1.5 L V12 engine;[1] Enzo Ferrari reluctantly built and sold his automobiles to fund Scuderia Ferrari.[15]The Scuderia Ferrari name was resurrected to denote the factory racing cars and distinguish them from those fielded by customer teams.In 1960 the company was restructured as a public corporation under the name SEFAC S.p.A.\n",
            "It was to be called the F60, continuing on from the F40 and F50, but Ferrari was so pleased with it, they called it the Enzo instead.It was initially offered to loyal and recurring customers, each of the 399 made (minus the 400th which was donated to the Vatican for charity) had a price tag of $650,000 apiece (equivalent to £400,900).On 15 September 2012, 964 Ferrari cars worth over $162 million (£99.95 million) attended the Ferrari Driving Days event at Silverstone Circuit and paraded round the Silverstone Circuit setting a world record.[17]Ferrari's former CEO and Chairman, Luca di Montezemolo, resigned from the company after 23 years, who was succeeded by Amedeo Felisa and finally on 3 May 2016 Amedeo resigned and was succeeded by Sergio Marchionne, CEO and Chairman of Fiat Chrysler Automobiles, Ferrari's parent company.[18]In July 2018, Marchionne was replaced by board member Louis Camilleri as CEO and by John Elkann as chairman.[19]On 29 October 2014, the FCA group, resulting from the merger between manufacturers Fiat and Chrysler, announced the split of its luxury brand, Ferrari.\n",
            "The aim was to turn Ferrari into an independent brand, 10% of whose stake would be sold in an IPO in 2015.[20]Ferrari officially priced its initial public offering at $52 a share after the market close on 20 October 2015.[21]\n"
          ],
          "name": "stdout"
        }
      ]
    },
    {
      "cell_type": "code",
      "metadata": {
        "id": "U801ptjdVE1g",
        "outputId": "ed6954c4-dbce-4d50-fa29-b34581fd60f2",
        "colab": {
          "base_uri": "https://localhost:8080/"
        }
      },
      "source": [
        "print(summarize(text, word_count=100))"
      ],
      "execution_count": 7,
      "outputs": [
        {
          "output_type": "stream",
          "text": [
            "In 1933, Alfa Romeo withdrew its in-house racing team and Scuderia Ferrari took over as its works team:[1]the Scuderia received Alfa's Grand Prix cars of the latest specifications and fielded many famous drivers such as Tazio Nuvolari and Achille Varzi.In 1938, Alfa Romeo brought its racing operation again in-house, forming Alfa Corse in Milan and hired Enzo Ferrari as manager of the new racing department; therefore the Scuderia Ferrari was disbanded.[1]In September 1939, Ferrari left Alfa Romeo under the provision he would not use the Ferrari name in association with races or racing cars for at least four years.[1] A few days later he founded Auto Avio Costruzioni, headquartered in the facilities of the old Scuderia Ferrari.[1]The new company ostensibly produced machine tools and aircraft accessories.\n"
          ],
          "name": "stdout"
        }
      ]
    },
    {
      "cell_type": "code",
      "metadata": {
        "id": "uOwLN15rVE1h",
        "outputId": "4a384cf4-c851-4fb9-e134-581763553425",
        "colab": {
          "base_uri": "https://localhost:8080/"
        }
      },
      "source": [
        "from gensim.summarization import keywords\n",
        "print(keywords(text))"
      ],
      "execution_count": 8,
      "outputs": [
        {
          "output_type": "stream",
          "text": [
            "ferrari\n",
            "racing\n",
            "races\n",
            "cars\n",
            "romeo race\n",
            "car manufacturer\n",
            "alfa\n",
            "scuderia\n",
            "fiat\n",
            "enzo\n",
            "drivers\n",
            "marchionne\n",
            "team\n",
            "teams\n",
            "new\n",
            "factory\n",
            "manufacturers\n",
            "company\n",
            "producing\n",
            "produced\n",
            "circuit\n",
            "little\n",
            "initially\n",
            "initial\n",
            "public\n",
            "days\n",
            "works\n",
            "work\n",
            "auto\n",
            "result\n",
            "louis\n",
            "group resulting\n",
            "amedeo\n",
            "resigned\n",
            "member\n",
            "investment\n",
            "spa\n",
            "italian\n",
            "model\n",
            "chrysler\n"
          ],
          "name": "stdout"
        }
      ]
    },
    {
      "cell_type": "code",
      "metadata": {
        "id": "1d8WWxoAVE1i"
      },
      "source": [
        "def pagerank(sim_mat, eps=0.0001, d=0.85,iter=100):\n",
        "    prob = np.ones(len(sim_mat)) / len(sim_mat)\n",
        "    count =0\n",
        "    while True:\n",
        "        new_prob  = np.ones(len(sim_mat)) * (1 - d) / len(sim_mat) + (d * sim_mat.T.dot(prob))\n",
        "        delta = abs(new_prob - prob).sum()\n",
        "        if delta <= eps:\n",
        "            return new_prob\n",
        "        prob = new_prob\n",
        "    return prob\n"
      ],
      "execution_count": 9,
      "outputs": []
    },
    {
      "cell_type": "code",
      "metadata": {
        "id": "ixG8wHNNVE1i"
      },
      "source": [
        "import numpy as np"
      ],
      "execution_count": 10,
      "outputs": []
    },
    {
      "cell_type": "code",
      "metadata": {
        "id": "4FqebaGHVE1j",
        "outputId": "7bb187f4-d817-4f5b-a3ef-5ba4f8044153",
        "colab": {
          "base_uri": "https://localhost:8080/"
        }
      },
      "source": [
        "sim_mat= np.zeros([4,4])\n",
        "\n",
        "sim_mat[1,0] = sim_mat[0,1] = 0.2\n",
        "sim_mat[2,0] = sim_mat[0,2] = 0.1\n",
        "sim_mat[3,0] = sim_mat[0,3] = 0.4\n",
        "sim_mat[1,2] = sim_mat[2,1] = 0.1\n",
        "sim_mat[2,1] = sim_mat[2,1] = 0.1\n",
        "sim_mat[3,1] = sim_mat[1,3] = 0.2\n",
        "sim_mat[2,3] = sim_mat[3,2] = 0.4\n",
        "print(sim_mat)"
      ],
      "execution_count": 11,
      "outputs": [
        {
          "output_type": "stream",
          "text": [
            "[[0.  0.2 0.1 0.4]\n",
            " [0.2 0.  0.1 0.2]\n",
            " [0.1 0.1 0.  0.4]\n",
            " [0.4 0.2 0.4 0. ]]\n"
          ],
          "name": "stdout"
        }
      ]
    },
    {
      "cell_type": "code",
      "metadata": {
        "id": "LrpdglQBVE1k"
      },
      "source": [
        "prob = pagerank(sim_mat)"
      ],
      "execution_count": 12,
      "outputs": []
    },
    {
      "cell_type": "code",
      "metadata": {
        "id": "p4oiedzDVE1k",
        "outputId": "0af27eb4-55a6-4085-b674-ed63bd8f02c9",
        "colab": {
          "base_uri": "https://localhost:8080/"
        }
      },
      "source": [
        "print(prob)"
      ],
      "execution_count": 13,
      "outputs": [
        {
          "output_type": "stream",
          "text": [
            "[0.09894556 0.0820077  0.09252005 0.11655406]\n"
          ],
          "name": "stdout"
        }
      ]
    },
    {
      "cell_type": "code",
      "metadata": {
        "id": "o3iCLYhrVE1l",
        "outputId": "131bf1b6-00f1-456c-d493-a6a8400cdee5",
        "colab": {
          "base_uri": "https://localhost:8080/"
        }
      },
      "source": [
        "ranked_sentence_indexes = [item[0] for item in sorted(enumerate(prob), key=lambda item: -item[1])]\n",
        "print(ranked_sentence_indexes)"
      ],
      "execution_count": 14,
      "outputs": [
        {
          "output_type": "stream",
          "text": [
            "[3, 0, 2, 1]\n"
          ],
          "name": "stdout"
        }
      ]
    }
  ]
}